{
  "nbformat": 4,
  "nbformat_minor": 0,
  "metadata": {
    "colab": {
      "provenance": [],
      "authorship_tag": "ABX9TyM+6O1eWX7QL1PIx8MbJL++",
      "include_colab_link": true
    },
    "kernelspec": {
      "name": "python3",
      "display_name": "Python 3"
    },
    "language_info": {
      "name": "python"
    }
  },
  "cells": [
    {
      "cell_type": "markdown",
      "metadata": {
        "id": "view-in-github",
        "colab_type": "text"
      },
      "source": [
        "<a href=\"https://colab.research.google.com/github/Peterderfu/stock/blob/master/peterlib.ipynb\" target=\"_parent\"><img src=\"https://colab.research.google.com/assets/colab-badge.svg\" alt=\"Open In Colab\"/></a>"
      ]
    },
    {
      "cell_type": "code",
      "execution_count": null,
      "metadata": {
        "id": "oVYOzx0kN8Px"
      },
      "outputs": [],
      "source": [
        "from finlab import data\n",
        "from talib import MA_Type\n",
        "\n",
        "def price_rotation(bband,NDay,upturn):\n",
        "  #bband:BBand帶寬%, 5%以下=>窄\n",
        "  #NDay:帶寬小於bband之連續天數\n",
        "  #upturn:上翹斜率\n",
        "  \n",
        "  #get BBand indicator\n",
        "  upper,middle,lower= data.indicator('BBANDS',timeperiod=20,matype=MA_Type.EMA)\n",
        "  #calcuate BBand width\n",
        "  width = ((upper/lower)-1)*100\n",
        "  #calculate launch rate\n",
        "  upper_pre = upper.shift(1)\n",
        "  launch = (1-(upper_pre/upper))*100\n",
        "\n",
        "  cond_1 = (width < bband).sustain(NDay) #帶寬小於bband且持續NDay天\n",
        "  cond_2 = launch > upturn        #上翹斜率大於upturn值\n",
        "  entries = cond_1 & cond_2"
      ]
    }
  ]
}